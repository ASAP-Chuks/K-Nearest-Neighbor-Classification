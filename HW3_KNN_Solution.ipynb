{
 "cells": [
  {
   "cell_type": "markdown",
   "id": "99465999",
   "metadata": {},
   "source": [
    "# Homework # 3 - K-Nearest Neighbor - Solution\n",
    "Data file: social_network_ads.csv"
   ]
  },
  {
   "cell_type": "markdown",
   "id": "db03907d",
   "metadata": {},
   "source": [
    "### Import libraries"
   ]
  },
  {
   "cell_type": "code",
   "execution_count": 1,
   "id": "ac51d56f",
   "metadata": {},
   "outputs": [],
   "source": [
    "import pandas as pd\n",
    "from sklearn.model_selection import train_test_split\n",
    "from sklearn.preprocessing import StandardScaler\n",
    "from sklearn.neighbors import KNeighborsClassifier\n",
    "from sklearn.metrics import confusion_matrix\n",
    "from sklearn.metrics import classification_report"
   ]
  },
  {
   "cell_type": "markdown",
   "id": "4c7ea0c6",
   "metadata": {},
   "source": [
    "### Load data"
   ]
  },
  {
   "cell_type": "code",
   "execution_count": 2,
   "id": "57deb84e",
   "metadata": {},
   "outputs": [
    {
     "name": "stdout",
     "output_type": "stream",
     "text": [
      "-rw-rw-r--@ 1 vj  staff  10926 Apr  7  2020 data/social_network_ads.csv\r\n"
     ]
    }
   ],
   "source": [
    "! ls -l 'data/social_network_ads.csv'"
   ]
  },
  {
   "cell_type": "code",
   "execution_count": 3,
   "id": "72df8fa1",
   "metadata": {},
   "outputs": [
    {
     "data": {
      "text/plain": [
       "(400, 5)"
      ]
     },
     "execution_count": 3,
     "metadata": {},
     "output_type": "execute_result"
    }
   ],
   "source": [
    "# Read CSV into dataframe\n",
    "df = pd.read_csv('data/social_network_ads.csv')\n",
    "df.shape"
   ]
  },
  {
   "cell_type": "code",
   "execution_count": 4,
   "id": "6fcae04f",
   "metadata": {},
   "outputs": [
    {
     "data": {
      "text/html": [
       "<div>\n",
       "<style scoped>\n",
       "    .dataframe tbody tr th:only-of-type {\n",
       "        vertical-align: middle;\n",
       "    }\n",
       "\n",
       "    .dataframe tbody tr th {\n",
       "        vertical-align: top;\n",
       "    }\n",
       "\n",
       "    .dataframe thead th {\n",
       "        text-align: right;\n",
       "    }\n",
       "</style>\n",
       "<table border=\"1\" class=\"dataframe\">\n",
       "  <thead>\n",
       "    <tr style=\"text-align: right;\">\n",
       "      <th></th>\n",
       "      <th>User ID</th>\n",
       "      <th>Gender</th>\n",
       "      <th>Age</th>\n",
       "      <th>EstimatedSalary</th>\n",
       "      <th>Purchased</th>\n",
       "    </tr>\n",
       "  </thead>\n",
       "  <tbody>\n",
       "    <tr>\n",
       "      <th>0</th>\n",
       "      <td>15624510</td>\n",
       "      <td>Male</td>\n",
       "      <td>19</td>\n",
       "      <td>19000</td>\n",
       "      <td>0</td>\n",
       "    </tr>\n",
       "    <tr>\n",
       "      <th>1</th>\n",
       "      <td>15810944</td>\n",
       "      <td>Male</td>\n",
       "      <td>35</td>\n",
       "      <td>20000</td>\n",
       "      <td>0</td>\n",
       "    </tr>\n",
       "    <tr>\n",
       "      <th>2</th>\n",
       "      <td>15668575</td>\n",
       "      <td>Female</td>\n",
       "      <td>26</td>\n",
       "      <td>43000</td>\n",
       "      <td>0</td>\n",
       "    </tr>\n",
       "    <tr>\n",
       "      <th>3</th>\n",
       "      <td>15603246</td>\n",
       "      <td>Female</td>\n",
       "      <td>27</td>\n",
       "      <td>57000</td>\n",
       "      <td>0</td>\n",
       "    </tr>\n",
       "    <tr>\n",
       "      <th>4</th>\n",
       "      <td>15804002</td>\n",
       "      <td>Male</td>\n",
       "      <td>19</td>\n",
       "      <td>76000</td>\n",
       "      <td>0</td>\n",
       "    </tr>\n",
       "  </tbody>\n",
       "</table>\n",
       "</div>"
      ],
      "text/plain": [
       "    User ID  Gender  Age  EstimatedSalary  Purchased\n",
       "0  15624510    Male   19            19000          0\n",
       "1  15810944    Male   35            20000          0\n",
       "2  15668575  Female   26            43000          0\n",
       "3  15603246  Female   27            57000          0\n",
       "4  15804002    Male   19            76000          0"
      ]
     },
     "execution_count": 4,
     "metadata": {},
     "output_type": "execute_result"
    }
   ],
   "source": [
    "# Display first few rows\n",
    "df.head()"
   ]
  },
  {
   "cell_type": "markdown",
   "id": "b99259d6",
   "metadata": {},
   "source": [
    "### Drop unnecessary columns 'User ID' and 'Gender'"
   ]
  },
  {
   "cell_type": "code",
   "execution_count": 5,
   "id": "9d2c8839",
   "metadata": {},
   "outputs": [
    {
     "data": {
      "text/html": [
       "<div>\n",
       "<style scoped>\n",
       "    .dataframe tbody tr th:only-of-type {\n",
       "        vertical-align: middle;\n",
       "    }\n",
       "\n",
       "    .dataframe tbody tr th {\n",
       "        vertical-align: top;\n",
       "    }\n",
       "\n",
       "    .dataframe thead th {\n",
       "        text-align: right;\n",
       "    }\n",
       "</style>\n",
       "<table border=\"1\" class=\"dataframe\">\n",
       "  <thead>\n",
       "    <tr style=\"text-align: right;\">\n",
       "      <th></th>\n",
       "      <th>Age</th>\n",
       "      <th>EstimatedSalary</th>\n",
       "      <th>Purchased</th>\n",
       "    </tr>\n",
       "  </thead>\n",
       "  <tbody>\n",
       "    <tr>\n",
       "      <th>0</th>\n",
       "      <td>19</td>\n",
       "      <td>19000</td>\n",
       "      <td>0</td>\n",
       "    </tr>\n",
       "    <tr>\n",
       "      <th>1</th>\n",
       "      <td>35</td>\n",
       "      <td>20000</td>\n",
       "      <td>0</td>\n",
       "    </tr>\n",
       "    <tr>\n",
       "      <th>2</th>\n",
       "      <td>26</td>\n",
       "      <td>43000</td>\n",
       "      <td>0</td>\n",
       "    </tr>\n",
       "    <tr>\n",
       "      <th>3</th>\n",
       "      <td>27</td>\n",
       "      <td>57000</td>\n",
       "      <td>0</td>\n",
       "    </tr>\n",
       "    <tr>\n",
       "      <th>4</th>\n",
       "      <td>19</td>\n",
       "      <td>76000</td>\n",
       "      <td>0</td>\n",
       "    </tr>\n",
       "  </tbody>\n",
       "</table>\n",
       "</div>"
      ],
      "text/plain": [
       "   Age  EstimatedSalary  Purchased\n",
       "0   19            19000          0\n",
       "1   35            20000          0\n",
       "2   26            43000          0\n",
       "3   27            57000          0\n",
       "4   19            76000          0"
      ]
     },
     "execution_count": 5,
     "metadata": {},
     "output_type": "execute_result"
    }
   ],
   "source": [
    "df.drop(['User ID', 'Gender'], axis=1, inplace=True)\n",
    "df.head()"
   ]
  },
  {
   "cell_type": "markdown",
   "id": "ad02e9c1",
   "metadata": {},
   "source": [
    "### Explore data"
   ]
  },
  {
   "cell_type": "code",
   "execution_count": 6,
   "id": "61aee3dd",
   "metadata": {},
   "outputs": [
    {
     "name": "stdout",
     "output_type": "stream",
     "text": [
      "Age: min=18, max=60\n",
      "EstimatedSalary: min=15000, max=150000\n"
     ]
    }
   ],
   "source": [
    "# Display distribution (min, max) of values for Age and EstimatedSalary variables\n",
    "print('Age: min={}, max={}'.format(df['Age'].min(), df['Age'].max()))\n",
    "print('EstimatedSalary: min={}, max={}'.format(df['EstimatedSalary'].min(), df['EstimatedSalary'].max()))"
   ]
  },
  {
   "cell_type": "markdown",
   "id": "170c5847",
   "metadata": {},
   "source": [
    "#### Note the scale for column EstimatedSalary is much higher than for column Age"
   ]
  },
  {
   "cell_type": "markdown",
   "id": "4cdea36d",
   "metadata": {},
   "source": [
    "### Separate independent and dependent variables\n",
    "* Independent variables: All except Purchased\n",
    "* Dependent variable: Purchased"
   ]
  },
  {
   "cell_type": "code",
   "execution_count": 7,
   "id": "bff39409",
   "metadata": {},
   "outputs": [],
   "source": [
    "# Prepare data for training and testing\n",
    "X = df.drop(\"Purchased\", axis = 1)\n",
    "y = df[\"Purchased\"]"
   ]
  },
  {
   "cell_type": "markdown",
   "id": "8f080f68",
   "metadata": {},
   "source": [
    "### Split data into training and test sets"
   ]
  },
  {
   "cell_type": "code",
   "execution_count": 8,
   "id": "91a7e3c3",
   "metadata": {},
   "outputs": [],
   "source": [
    "# Split into training (70%) and test data (30%)\n",
    "X_train, X_test, y_train, y_test = train_test_split(X, y, test_size = 0.3, random_state = 52)"
   ]
  },
  {
   "cell_type": "markdown",
   "id": "09db63e5",
   "metadata": {},
   "source": [
    "### Scale Age and EstimatedSalary variables"
   ]
  },
  {
   "cell_type": "code",
   "execution_count": 9,
   "id": "1d15b86f",
   "metadata": {},
   "outputs": [],
   "source": [
    "# Use StandardScaler\n",
    "sc = StandardScaler()\n",
    "X_train = sc.fit_transform(X_train)\n",
    "X_test = sc.transform(X_test)"
   ]
  },
  {
   "cell_type": "code",
   "execution_count": 10,
   "id": "74d34493",
   "metadata": {},
   "outputs": [
    {
     "name": "stdout",
     "output_type": "stream",
     "text": [
      "Scaled Age (training): min=-0.3669544783944666, max=0.19782108226835948\n",
      "Scaled EstimatedSalary (training): min=-0.5427911936547929, max=-0.4660989883583254\n",
      "\n",
      "Scaled Age (test): min=-0.42556671681457536, max=-0.08671609085736262\n",
      "Scaled EstimatedSalary (test): min=-1.0351733346097696, max=-0.45487283602462975\n"
     ]
    }
   ],
   "source": [
    "# Display distribution (min, max) of scaled values for Age and EstimatedSalary variables\n",
    "print('Scaled Age (training): min={}, max={}'.format(X_train[1].min(), X_train[1].max()))\n",
    "print('Scaled EstimatedSalary (training): min={}, max={}'.format(X_train[0].min(), X_train[0].max()))\n",
    "print()\n",
    "print('Scaled Age (test): min={}, max={}'.format(X_test[1].min(), X_test[1].max()))\n",
    "print('Scaled EstimatedSalary (test): min={}, max={}'.format(X_test[0].min(), X_test[0].max()))"
   ]
  },
  {
   "cell_type": "markdown",
   "id": "c493a82a",
   "metadata": {},
   "source": [
    "### Train KNeighborsClassifier (with default hyperparameters)"
   ]
  },
  {
   "cell_type": "code",
   "execution_count": 11,
   "id": "8dc7f744",
   "metadata": {},
   "outputs": [
    {
     "data": {
      "text/plain": [
       "KNeighborsClassifier()"
      ]
     },
     "execution_count": 11,
     "metadata": {},
     "output_type": "execute_result"
    }
   ],
   "source": [
    "# Defaults: n_neighbors=5, weights='uniform' metric='Euclidean'\n",
    "model = KNeighborsClassifier()\n",
    "model.fit(X_train, y_train)"
   ]
  },
  {
   "cell_type": "markdown",
   "id": "a8b14a0f",
   "metadata": {},
   "source": [
    "### Evaulate model performance"
   ]
  },
  {
   "cell_type": "code",
   "execution_count": 12,
   "id": "b8096f38",
   "metadata": {},
   "outputs": [],
   "source": [
    "# Predict using the Test set results\n",
    "y_pred = model.predict(X_test)"
   ]
  },
  {
   "cell_type": "code",
   "execution_count": 13,
   "id": "dcf02df2",
   "metadata": {},
   "outputs": [
    {
     "data": {
      "text/plain": [
       "array([[69,  4],\n",
       "       [ 8, 39]])"
      ]
     },
     "execution_count": 13,
     "metadata": {},
     "output_type": "execute_result"
    }
   ],
   "source": [
    "# Display the Confusion Matrix\n",
    "cm = confusion_matrix(y_test, y_pred)\n",
    "cm"
   ]
  },
  {
   "cell_type": "code",
   "execution_count": 14,
   "id": "5407f211",
   "metadata": {},
   "outputs": [
    {
     "name": "stdout",
     "output_type": "stream",
     "text": [
      "*************** Evaluation on Test Data ***************\n",
      "Accuracy Score:  0.9\n"
     ]
    }
   ],
   "source": [
    "# Generate and print model performance metrics (accuracy) on test set\n",
    "print('*************** Evaluation on Test Data ***************')\n",
    "score_test = model.score(X_test, y_test)\n",
    "print('Accuracy Score: ', score_test)"
   ]
  },
  {
   "cell_type": "code",
   "execution_count": 15,
   "id": "236ec787",
   "metadata": {},
   "outputs": [
    {
     "name": "stdout",
     "output_type": "stream",
     "text": [
      "              precision    recall  f1-score   support\n",
      "\n",
      "           0       0.90      0.95      0.92        73\n",
      "           1       0.91      0.83      0.87        47\n",
      "\n",
      "    accuracy                           0.90       120\n",
      "   macro avg       0.90      0.89      0.89       120\n",
      "weighted avg       0.90      0.90      0.90       120\n",
      "\n"
     ]
    }
   ],
   "source": [
    "# Generate classification report to evaluate the model\n",
    "print(classification_report(y_test, y_pred))"
   ]
  },
  {
   "cell_type": "markdown",
   "id": "e9e735f4",
   "metadata": {},
   "source": [
    "### Train KNeighborsClassifier (change hyperparameter: n_neighbors)"
   ]
  },
  {
   "cell_type": "code",
   "execution_count": 16,
   "id": "efadbe02",
   "metadata": {},
   "outputs": [
    {
     "data": {
      "text/plain": [
       "KNeighborsClassifier(n_neighbors=3)"
      ]
     },
     "execution_count": 16,
     "metadata": {},
     "output_type": "execute_result"
    }
   ],
   "source": [
    "# Defaults: n_neighbors=5, weights='uniform' metric='Euclidean'\n",
    "num_neighbors=3\n",
    "model = KNeighborsClassifier(n_neighbors=num_neighbors)\n",
    "model.fit(X_train, y_train)"
   ]
  },
  {
   "cell_type": "markdown",
   "id": "ab3525b0",
   "metadata": {},
   "source": [
    "### Evaulate model performance"
   ]
  },
  {
   "cell_type": "code",
   "execution_count": 17,
   "id": "c6ec4dd4",
   "metadata": {},
   "outputs": [],
   "source": [
    "# Predict using the Test set results\n",
    "y_pred = model.predict(X_test)"
   ]
  },
  {
   "cell_type": "code",
   "execution_count": 18,
   "id": "01c2ae5f",
   "metadata": {
    "scrolled": true
   },
   "outputs": [
    {
     "data": {
      "text/plain": [
       "array([[68,  5],\n",
       "       [ 9, 38]])"
      ]
     },
     "execution_count": 18,
     "metadata": {},
     "output_type": "execute_result"
    }
   ],
   "source": [
    "# Display the Confusion Matrix\n",
    "cm = confusion_matrix(y_test, y_pred)\n",
    "cm"
   ]
  },
  {
   "cell_type": "code",
   "execution_count": 19,
   "id": "f3a6a1b2",
   "metadata": {},
   "outputs": [
    {
     "name": "stdout",
     "output_type": "stream",
     "text": [
      "*************** Evaluation on Test Data ***************\n",
      "Accuracy Score:  0.8833333333333333\n"
     ]
    }
   ],
   "source": [
    "# Generate and print model performance metrics (accuracy) on test set\n",
    "print('*************** Evaluation on Test Data ***************')\n",
    "score_test = model.score(X_test, y_test)\n",
    "print('Accuracy Score: ', score_test)"
   ]
  },
  {
   "cell_type": "code",
   "execution_count": 20,
   "id": "ac9a62fa",
   "metadata": {},
   "outputs": [
    {
     "name": "stdout",
     "output_type": "stream",
     "text": [
      "              precision    recall  f1-score   support\n",
      "\n",
      "           0       0.88      0.93      0.91        73\n",
      "           1       0.88      0.81      0.84        47\n",
      "\n",
      "    accuracy                           0.88       120\n",
      "   macro avg       0.88      0.87      0.88       120\n",
      "weighted avg       0.88      0.88      0.88       120\n",
      "\n"
     ]
    }
   ],
   "source": [
    "# Generate classification report to evaluate the model\n",
    "print(classification_report(y_test, y_pred))"
   ]
  }
 ],
 "metadata": {
  "kernelspec": {
   "display_name": "Python 3 (ipykernel)",
   "language": "python",
   "name": "python3"
  },
  "language_info": {
   "codemirror_mode": {
    "name": "ipython",
    "version": 3
   },
   "file_extension": ".py",
   "mimetype": "text/x-python",
   "name": "python",
   "nbconvert_exporter": "python",
   "pygments_lexer": "ipython3",
   "version": "3.11.5"
  }
 },
 "nbformat": 4,
 "nbformat_minor": 5
}
